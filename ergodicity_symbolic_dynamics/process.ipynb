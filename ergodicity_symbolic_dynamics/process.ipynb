{
 "cells": [
  {
   "cell_type": "markdown",
   "id": "00bfac4d",
   "metadata": {},
   "source": [
    "## Experiments: Data Generation: Ergodicity detection algorithms: Scaling of ergodicity in random symbolic dynamics \n",
    "\n",
    "    M. Süzen   \n",
    "    (c) 2025"
   ]
  },
  {
   "cell_type": "markdown",
   "id": "7df28921",
   "metadata": {},
   "source": [
    "## Versions check"
   ]
  },
  {
   "cell_type": "code",
   "execution_count": 1,
   "id": "245fa36d",
   "metadata": {},
   "outputs": [
    {
     "data": {
      "text/plain": [
       "(sys.version_info(major=3, minor=11, micro=6, releaselevel='final', serial=0),\n",
       " '0.14.5',\n",
       " '2.3.1',\n",
       " '2.3.1',\n",
       " '3.10.3',\n",
       " '0.4.0')"
      ]
     },
     "execution_count": 1,
     "metadata": {},
     "output_type": "execute_result"
    }
   ],
   "source": [
    "import statsmodels\n",
    "import pandas\n",
    "import numpy\n",
    "import matplotlib\n",
    "import sys\n",
    "import dill\n",
    "\n",
    "# (sys.version_info(major=3, minor=11, micro=6, releaselevel='final', serial=0),\n",
    "#  '0.14.5',\n",
    "#  '2.3.1',\n",
    "#  '2.3.1',\n",
    "#  '3.10.3')\n",
    "sys.version_info, statsmodels.__version__, pandas.__version__, numpy.__version__, matplotlib.__version__, dill.__version__"
   ]
  },
  {
   "cell_type": "markdown",
   "id": "8be3cf9e",
   "metadata": {},
   "source": [
    "## Simulation Methods"
   ]
  },
  {
   "cell_type": "code",
   "execution_count": 2,
   "id": "c622cfcd",
   "metadata": {},
   "outputs": [],
   "source": [
    "import statsmodels.api as sm\n",
    "from collections import namedtuple\n",
    "import secrets\n",
    "import numpy as np\n",
    "import pandas as pd\n",
    "from numpy.random import Generator, PCG64\n",
    "from typing import Callable\n",
    "from itertools import product\n",
    "import matplotlib.pyplot as plt\n",
    "\n",
    "\n",
    "# Storage for a simulation\n",
    "simStorage = namedtuple(\n",
    "    \"simStorage\", [\"sparsity\", \"alphabet_size\", \"event_size\", \"ergo_measure\"]\n",
    ")\n",
    "\n",
    "\n",
    "# Measured\n",
    "measureErgo = namedtuple(\n",
    "    \"measureErgo\",\n",
    "    [\"ergo_measure_mean\", \"ergo_measure_se\", \"alpha\", \"alpha_se\", \"C\", \"C_se\"],\n",
    ")\n",
    "\n",
    "\n",
    "def observe_sum(pattern: np.array) -> float:\n",
    "    return float(np.sum(pattern))\n",
    "\n",
    "\n",
    "def events_ensemble(alphabet_size: int, event_size: int) -> np.ndarray:\n",
    "    \"\"\"\n",
    "\n",
    "    Generate ensemble of deterministic patterns of given alphabet size.\n",
    "    Combination with replacement and order not matter.\n",
    "\n",
    "    Parameters\n",
    "    ----------\n",
    "    alphabet_size : int\n",
    "        Number of symbols to use\n",
    "    event_size : int\n",
    "        Number of times symbols can appear in a single event.\n",
    "\n",
    "    Returns\n",
    "    -------\n",
    "    Ensemble of events: nd.array\n",
    "        Ensemble members in an array\n",
    "\n",
    "    Example:\n",
    "        >>> events_ensemble(2, 2)\n",
    "        array([[0, 0], [0, 1], [1, 0], [1, 1]])\n",
    "\n",
    "    \"\"\"\n",
    "    cartesian_events = [list(range(alphabet_size))] * event_size\n",
    "    ensemble_of_events = np.array([list(e) for e in product(*cartesian_events)])\n",
    "    return ensemble_of_events\n",
    "\n",
    "\n",
    "def compute_observable(\n",
    "    patterns: np.array, observe_method: Callable[np.array, float]\n",
    ") -> np.array:\n",
    "    return np.array([observe_method(pattern) for pattern in patterns])\n",
    "\n",
    "\n",
    "def log_ols_coefficients(x, y):\n",
    "    \"\"\"OLS coefficients for log-data\"\"\"\n",
    "    X = np.log10(x)\n",
    "    Y = np.log10(y)\n",
    "    Xc = sm.add_constant(X)\n",
    "    result = sm.OLS(Y, Xc).fit()\n",
    "    C, alpha = result.params\n",
    "    return C, alpha\n",
    "\n",
    "\n",
    "def get_a_good_seed():\n",
    "    return secrets.randbits(32)\n",
    "\n",
    "\n",
    "def measure_ergodicity_scaling(\n",
    "    ensemble_set,\n",
    "    time_repeat: int = 40,\n",
    "    experiment_repeat: int = 70,\n",
    "    time_length: int = int(120e3),\n",
    ") -> measureErgo:\n",
    "    \"\"\"\n",
    "    Approach to Ergodicity ; observed sum, mean absolute difference measure\n",
    "\n",
    "    \"\"\"\n",
    "    coefs = []\n",
    "    alphas = []\n",
    "    ergos = []\n",
    "    for _ in range(experiment_repeat):\n",
    "        rng = Generator(PCG64(get_a_good_seed()))\n",
    "        scon = np.arange(1, time_length + 1)\n",
    "        X1 = np.log10(scon)\n",
    "        ensemble_avg = np.mean(compute_observable(ensemble_set, observe_sum))\n",
    "        time_sims = rng.choice(ensemble_set, (time_repeat, time_length)).sum(axis=2)\n",
    "        time_sims = time_sims.cumsum(axis=1)\n",
    "        ergo = np.abs(time_sims / scon - ensemble_avg).mean(axis=0)\n",
    "        ergos.append(ergo)\n",
    "        Y1 = np.log10(ergo)\n",
    "        Xc1 = sm.add_constant(X1)\n",
    "        result = sm.OLS(Y1, Xc1).fit()\n",
    "        C1, alpha1 = result.params\n",
    "        coefs.append(float(C1))\n",
    "        alphas.append(float(alpha1))\n",
    "    se_denom = np.sqrt(experiment_repeat)\n",
    "    ergo_measure_mean = np.array(ergos).mean(axis=0)\n",
    "    ergo_measure_se = np.array(ergos).std(axis=0) / se_denom\n",
    "    C = np.mean(coefs)\n",
    "    C_se = np.std(coefs) / se_denom\n",
    "    alpha = np.mean(alphas)\n",
    "    alpha_se = np.std(alphas) / se_denom\n",
    "    ergom = measureErgo(\n",
    "        ergo_measure_mean=ergo_measure_mean,\n",
    "        ergo_measure_se=ergo_measure_se,\n",
    "        alpha=alpha,\n",
    "        alpha_se=alpha_se,\n",
    "        C=C,\n",
    "        C_se=C_se,\n",
    "    )\n",
    "    return ergom"
   ]
  },
  {
   "cell_type": "markdown",
   "id": "432b8340",
   "metadata": {},
   "source": [
    "## Case1: Generate Data : Symbolic Space\n",
    "This entails space formed with `alphabet_size*10 + event_size`\n",
    "Set of 10 case `[65, 58, 55, 52, 48, 43, 34, 28, 25, 22]`.  "
   ]
  },
  {
   "cell_type": "code",
   "execution_count": 3,
   "id": "c156510d",
   "metadata": {},
   "outputs": [
    {
     "name": "stdout",
     "output_type": "stream",
     "text": [
      "Sim 6-5\n",
      "Sim 5-8\n",
      "Sim 5-5\n",
      "Sim 5-2\n",
      "Sim 4-8\n",
      "Sim 4-3\n",
      "Sim 3-3\n",
      "Sim 2-8\n",
      "Sim 2-5\n",
      "Sim 2-2\n"
     ]
    }
   ],
   "source": [
    "alphabet_sizes = [6, 5, 5, 5, 4, 4, 3, 2, 2, 2]\n",
    "event_sizes = [5, 8, 5, 2, 8, 3, 3, 8, 5, 2]\n",
    "\n",
    "sim_data = []\n",
    "for alpha, event_size in zip(alphabet_sizes, event_sizes):\n",
    "    print(f\"Sim {alpha}-{event_size}\")\n",
    "    ensemble_set = events_ensemble(alpha, event_size)\n",
    "    ergo_measure = measure_ergodicity_scaling(ensemble_set)\n",
    "    sim = simStorage(\n",
    "        sparsity=1.0,\n",
    "        alphabet_size=alpha,\n",
    "        event_size=event_size,\n",
    "        ergo_measure=ergo_measure,\n",
    "    )\n",
    "    sim_data.append(sim)"
   ]
  },
  {
   "cell_type": "code",
   "execution_count": 6,
   "id": "9c6a5c8a",
   "metadata": {},
   "outputs": [],
   "source": [
    "dill.dump(sim_data, open('./data/case1_symbolic_space.dill', 'wb'))"
   ]
  },
  {
   "cell_type": "markdown",
   "id": "83a2087e",
   "metadata": {},
   "source": [
    "## Case 2: Generate Data: Demonstration of sparse visits with 10-2 baseline \n",
    "\n",
    "* Event-size fixed at 2  alphabet sizes: 2 to 10 : Ergodicity Omega vs. time\n",
    "* Table of Coeffs. "
   ]
  },
  {
   "cell_type": "code",
   "execution_count": 7,
   "id": "6cad29e4",
   "metadata": {},
   "outputs": [
    {
     "name": "stdout",
     "output_type": "stream",
     "text": [
      "Sim 2-2\n",
      "Sim 3-2\n",
      "Sim 4-2\n",
      "Sim 5-2\n",
      "Sim 6-2\n",
      "Sim 7-2\n",
      "Sim 8-2\n",
      "Sim 9-2\n",
      "Sim 10-2\n"
     ]
    }
   ],
   "source": [
    "event_size = 2\n",
    "base_alphabet_size = 10\n",
    "ensemble_size = base_alphabet_size**event_size\n",
    "alphabet_sizes = np.arange(2, base_alphabet_size + 1)\n",
    "sim_data = []\n",
    "for alpha in alphabet_sizes:\n",
    "    print(f\"Sim {alpha}-{event_size}\")\n",
    "    sparse_space = alpha**event_size\n",
    "    sparsity = sparse_space / ensemble_size\n",
    "    ensemble_set = events_ensemble(alpha, event_size)\n",
    "    ergo_measure = measure_ergodicity_scaling(ensemble_set)\n",
    "    sim = simStorage(\n",
    "        sparsity=sparsity,\n",
    "        alphabet_size=alpha,\n",
    "        event_size=event_size,\n",
    "        ergo_measure=ergo_measure,\n",
    "    )\n",
    "    sim_data.append(sim)"
   ]
  },
  {
   "cell_type": "code",
   "execution_count": 9,
   "id": "df3d91c3",
   "metadata": {},
   "outputs": [],
   "source": [
    "dill.dump(sim_data, open(\"./data/case2_sparse_102.dill\", \"wb\"))"
   ]
  },
  {
   "cell_type": "markdown",
   "id": "304f5738",
   "metadata": {},
   "source": [
    "## Case 3: Data generate: Demonstration of sparse visits with 18-3 baseline\n",
    "\n",
    "* Event-size fixed at 3  alphabet sizes: 3 to 18 : Ergodicity Omega vs. time\n",
    "* Table of Coeffs."
   ]
  },
  {
   "cell_type": "code",
   "execution_count": 10,
   "id": "f576571d",
   "metadata": {},
   "outputs": [
    {
     "name": "stdout",
     "output_type": "stream",
     "text": [
      "Sim 7-3\n",
      "Sim 8-3\n",
      "Sim 9-3\n",
      "Sim 10-3\n",
      "Sim 11-3\n",
      "Sim 12-3\n",
      "Sim 13-3\n",
      "Sim 14-3\n",
      "Sim 15-3\n",
      "Sim 16-3\n",
      "Sim 17-3\n",
      "Sim 18-3\n"
     ]
    }
   ],
   "source": [
    "event_size = 3\n",
    "base_alphabet_size = 18\n",
    "ensemble_size = base_alphabet_size**event_size\n",
    "alphabet_sizes = np.arange(7, 19)\n",
    "sim_data = []\n",
    "for alpha in alphabet_sizes:\n",
    "    print(f\"Sim {alpha}-{event_size}\")\n",
    "    sparse_space = alpha**event_size\n",
    "    sparsity = sparse_space / ensemble_size\n",
    "    ensemble_set = events_ensemble(alpha, event_size)\n",
    "    ergo_measure = measure_ergodicity_scaling(ensemble_set)\n",
    "    sim = simStorage(\n",
    "        sparsity=sparsity,\n",
    "        alphabet_size=alpha,\n",
    "        event_size=event_size,\n",
    "        ergo_measure=ergo_measure,\n",
    "    )\n",
    "    sim_data.append(sim)"
   ]
  },
  {
   "cell_type": "code",
   "execution_count": 11,
   "id": "667ab074",
   "metadata": {},
   "outputs": [],
   "source": [
    "dill.dump(sim_data, open(\"./data/case2_sparse_183.dill\", \"wb\"))"
   ]
  },
  {
   "cell_type": "markdown",
   "id": "6df93fa0",
   "metadata": {},
   "source": [
    "QED."
   ]
  },
  {
   "cell_type": "markdown",
   "id": "a9d0801b",
   "metadata": {},
   "source": [
    "## Case 1: Process: Symbolic space \n",
    "This entails space formed with `alphabet_size*10 + event_size`\n",
    "Set of 10 case `[65, 58, 55, 52, 48, 43, 34, 28, 25, 22]`.  "
   ]
  },
  {
   "cell_type": "code",
   "execution_count": null,
   "id": "45331e64",
   "metadata": {},
   "outputs": [],
   "source": [
    "styles = iter(\n",
    "    [\n",
    "        \"-\",\n",
    "        \"--\",\n",
    "        \"-.\",\n",
    "        \":\",\n",
    "        \".\",\n",
    "        \">\",\n",
    "        \"<\",\n",
    "        \"*\",\n",
    "        \"x\",\n",
    "        \"o\",\n",
    "    ]\n",
    ")\n",
    "font = {\"family\": \"monospace\", \"weight\": \"bold\", \"size\": 16}\n",
    "plt.rc(\"font\", **font)\n",
    "alphabet_sizes = []\n",
    "event_sizes = []\n",
    "C = []\n",
    "Cse = []\n",
    "alpha = []\n",
    "alpha_se = []\n",
    "for sim in sim_data:\n",
    "    _label = str(sim.alphabet_size) + \"-\" + str(sim.event_size)\n",
    "    plt.plot(\n",
    "        sim.ergo_measure.ergo_measure_mean[::1500],\n",
    "        next(styles),\n",
    "        markersize=6,\n",
    "        label=_label,\n",
    "    )\n",
    "    plt.yscale(\"log\")\n",
    "    alphabet_sizes.append(sim.alphabet_size)\n",
    "    event_sizes.append(sim.event_size)\n",
    "    C.append(sim.ergo_measure.C)\n",
    "    Cse.append(sim.ergo_measure.C_se)\n",
    "    alpha.append(sim.ergo_measure.alpha)\n",
    "    alpha_se.append(sim.ergo_measure.alpha_se)\n",
    "plt.legend()\n",
    "plt.xlabel(f\"Time Step (x1500)\")\n",
    "plt.ylabel(\"Approach to Ergodicity\")\n",
    "plt.title(f\"Scaling of full visits \")\n",
    "plt.xlim([0.0, 49.0])\n",
    "plt.savefig(f\"./artifacts/full_visits.eps\", format=\"eps\", bbox_inches=\"tight\")\n",
    "plt.close()\n",
    "\n",
    "df = pd.DataFrame(\n",
    "    {\n",
    "        \"alphabet_sizes\": alphabet_sizes,\n",
    "        \"event_sizes\": event_sizes,\n",
    "        \"C\": C,\n",
    "        \"Cse\": Cse,\n",
    "        \"alpha\": alpha,\n",
    "        \"alpha_se\": alpha_se,\n",
    "    }\n",
    ")\n",
    "df.to_latex(\"./artifacts/full_visits.latex\", index=False, float_format=\"%.4f\")"
   ]
  },
  {
   "cell_type": "code",
   "execution_count": null,
   "id": "ec92f00b",
   "metadata": {},
   "outputs": [],
   "source": [
    "df_case1 = df"
   ]
  },
  {
   "cell_type": "markdown",
   "id": "d875d13e",
   "metadata": {},
   "source": [
    "## Case 2: Process : Demonstration of sparse visits with 10-2 baseline \n",
    "\n",
    "* Event-size fixed at 2  alphabet sizes: 2 to 10 : Ergodicity Omega vs. time\n",
    "* Table of Coeffs. "
   ]
  },
  {
   "cell_type": "code",
   "execution_count": null,
   "id": "8dea0ea3",
   "metadata": {},
   "outputs": [],
   "source": [
    "styles = iter(\n",
    "    [\n",
    "        \"-\",\n",
    "        \"--\",\n",
    "        \"-.\",\n",
    "        \":\",\n",
    "        \".\",\n",
    "        \">\",\n",
    "        \"<\",\n",
    "        \"*\",\n",
    "        \"x\",\n",
    "        \"o\",\n",
    "    ]\n",
    ")\n",
    "font = {\"family\": \"monospace\", \"weight\": \"bold\", \"size\": 16}\n",
    "plt.rc(\"font\", **font)\n",
    "alphabet_sizes = []\n",
    "event_sizes = []\n",
    "sparsity = []\n",
    "C = []\n",
    "Cse = []\n",
    "alpha = []\n",
    "alpha_se = []\n",
    "for sim in sim_data:\n",
    "    _label = (\n",
    "        str(sim.alphabet_size)\n",
    "        + \"-\"\n",
    "        + str(sim.event_size)\n",
    "        + \": {0:.2f}\".format(sim.sparsity)\n",
    "    )\n",
    "    plt.plot(\n",
    "        sim.ergo_measure.ergo_measure_mean[::1500],\n",
    "        next(styles),\n",
    "        markersize=6,\n",
    "        label=_label,\n",
    "    )\n",
    "    plt.yscale(\"log\")\n",
    "    alphabet_sizes.append(sim.alphabet_size)\n",
    "    event_sizes.append(sim.event_size)\n",
    "    C.append(sim.ergo_measure.C)\n",
    "    Cse.append(sim.ergo_measure.C_se)\n",
    "    alpha.append(sim.ergo_measure.alpha)\n",
    "    alpha_se.append(sim.ergo_measure.alpha_se)\n",
    "    sparsity.append(sim.sparsity)\n",
    "plt.legend()\n",
    "plt.xlabel(f\"Time Step (x1500)\")\n",
    "plt.ylabel(\"Approach to Ergodicity\")\n",
    "plt.title(f\"Demonstration of sparse \\n visits with 10-2 baseline \")\n",
    "plt.xlim([0.0, 65.0])\n",
    "plt.savefig(f\"artifacts/sparse_visit_10_2_baseline.eps\", format=\"eps\", bbox_inches=\"tight\")\n",
    "plt.close()\n",
    "\n",
    "df = pd.DataFrame(\n",
    "    {\n",
    "        \"alphabet_sizes\": alphabet_sizes,\n",
    "        \"event_sizes\": event_sizes,\n",
    "        \"sparsity\": sparsity,\n",
    "        \"C\": C,\n",
    "        \"Cse\": Cse,\n",
    "        \"alpha\": alpha,\n",
    "        \"alpha_se\": alpha_se,\n",
    "    }\n",
    ")\n",
    "df.to_latex(\"artifacts/sparse_visit_10_2_baseline.latex\", index=False, float_format=\"%.4f\")"
   ]
  },
  {
   "cell_type": "code",
   "execution_count": null,
   "id": "9e1d3cd4",
   "metadata": {},
   "outputs": [],
   "source": [
    "df_case2 = df"
   ]
  },
  {
   "cell_type": "markdown",
   "id": "a3868907",
   "metadata": {},
   "source": [
    "## Case 3: Process: Demonstration of sparse visits with 18-3 baseline\n",
    "\n",
    "* Event-size fixed at 3  alphabet sizes: 3 to 18 : Ergodicity Omega vs. time\n",
    "* Table of Coeffs."
   ]
  },
  {
   "cell_type": "code",
   "execution_count": null,
   "id": "18dbbf92",
   "metadata": {},
   "outputs": [],
   "source": []
  },
  {
   "cell_type": "code",
   "execution_count": null,
   "id": "39c11c95",
   "metadata": {},
   "outputs": [],
   "source": [
    "styles = iter([\"-\", \"--\", \"-.\", \":\", \".\", \">\", \"<\", \"*\", \"x\", \"o\", \"o-\", \"x-\"])\n",
    "font = {\"family\": \"monospace\", \"weight\": \"bold\", \"size\": 14}\n",
    "plt.rc(\"font\", **font)\n",
    "alphabet_sizes = []\n",
    "event_sizes = []\n",
    "sparsity = []\n",
    "C = []\n",
    "Cse = []\n",
    "alpha = []\n",
    "alpha_se = []\n",
    "for sim in sim_data:\n",
    "    _label = (\n",
    "        str(sim.alphabet_size)\n",
    "        + \"-\"\n",
    "        + str(sim.event_size)\n",
    "        + \": {0:.2f}\".format(sim.sparsity)\n",
    "    )\n",
    "    plt.plot(\n",
    "        sim.ergo_measure.ergo_measure_mean[::1500],\n",
    "        next(styles),\n",
    "        markersize=6,\n",
    "        label=_label,\n",
    "    )\n",
    "    plt.yscale(\"log\")\n",
    "    plt.xlim([0.0, 60.0])\n",
    "    alphabet_sizes.append(sim.alphabet_size)\n",
    "    event_sizes.append(sim.event_size)\n",
    "    sparsity.append(sim.sparsity)\n",
    "    C.append(sim.ergo_measure.C)\n",
    "    Cse.append(sim.ergo_measure.C_se)\n",
    "    alpha.append(sim.ergo_measure.alpha)\n",
    "    alpha_se.append(sim.ergo_measure.alpha_se)\n",
    "plt.legend()\n",
    "plt.xlabel(f\"Time Step (x1500)\")\n",
    "plt.ylabel(\"Approach to Ergodicity\")\n",
    "plt.title(f\"Demonstration of sparse \\n visits with 18-3 baseline \")\n",
    "plt.xlim([0.0, 80.0])\n",
    "plt.savefig(f\"artifacts/sparse_visit_18_3_baseline.eps\", format=\"eps\", bbox_inches=\"tight\")\n",
    "plt.close()\n",
    "\n",
    "df = pd.DataFrame(\n",
    "    {\n",
    "        \"alphabet_sizes\": alphabet_sizes,\n",
    "        \"event_sizes\": event_sizes,\n",
    "        \"sparsity\": sparsity,\n",
    "        \"C\": C,\n",
    "        \"Cse\": Cse,\n",
    "        \"alpha\": alpha,\n",
    "        \"alpha_se\": alpha_se,\n",
    "    }\n",
    ")\n",
    "df.to_latex(\"artifacts/sparse_visit_18_3_baseline.latex\", index=False, float_format=\"%.4f\")"
   ]
  },
  {
   "cell_type": "markdown",
   "id": "e1e15e94",
   "metadata": {},
   "source": [
    "## Visualise Ensemble Sets\n",
    "\n",
    "Example visualisation of ensemble sets."
   ]
  },
  {
   "cell_type": "code",
   "execution_count": null,
   "id": "0fcf80e3",
   "metadata": {},
   "outputs": [],
   "source": [
    "font = {\"family\": \"monospace\", \"weight\": \"bold\", \"size\": 38}\n",
    "plt.rc(\"font\", **font)\n",
    "ensemble_set = events_ensemble(alphabet_size=2, event_size=3)\n",
    "plt.matshow(ensemble_set.T, cmap=\"Greys\")\n",
    "plt.gca().axes.get_xaxis().set_visible(False)\n",
    "plt.gca().axes.get_yaxis().set_visible(False)\n",
    "plt.title(\"Ensemble Set 2,3\")\n",
    "plt.savefig(f\"ensemble_set_2_3.eps\", format=\"eps\", bbox_inches=\"tight\")\n",
    "plt.close()\n"
   ]
  },
  {
   "cell_type": "code",
   "execution_count": null,
   "id": "27f30eeb",
   "metadata": {},
   "outputs": [],
   "source": [
    "ensemble_set = events_ensemble(alphabet_size=3, event_size=2)\n",
    "font = {\"family\": \"monospace\", \"weight\": \"bold\", \"size\": 38}\n",
    "plt.rc(\"font\", **font)\n",
    "plt.matshow(ensemble_set.T, cmap='Greys')\n",
    "plt.gca().axes.get_xaxis().set_visible(False)\n",
    "plt.gca().axes.get_yaxis().set_visible(False)\n",
    "plt.title(\"Ensemble Set 3,2\")\n",
    "plt.savefig(f\"ensemble_set_3_2.eps\", format=\"eps\", bbox_inches=\"tight\")\n",
    "plt.close()"
   ]
  },
  {
   "cell_type": "code",
   "execution_count": null,
   "id": "1d3f2a03",
   "metadata": {},
   "outputs": [],
   "source": []
  }
 ],
 "metadata": {
  "kernelspec": {
   "display_name": "ergodic",
   "language": "python",
   "name": "python3"
  },
  "language_info": {
   "codemirror_mode": {
    "name": "ipython",
    "version": 3
   },
   "file_extension": ".py",
   "mimetype": "text/x-python",
   "name": "python",
   "nbconvert_exporter": "python",
   "pygments_lexer": "ipython3",
   "version": "3.11.6"
  }
 },
 "nbformat": 4,
 "nbformat_minor": 5
}
