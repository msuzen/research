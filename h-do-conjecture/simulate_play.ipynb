{
 "cells": [
  {
   "cell_type": "code",
   "execution_count": null,
   "metadata": {},
   "outputs": [],
   "source": [
    "import numpy as np \n",
    "from numpy.random import randint\n",
    "from numpy.random import choice\n",
    "from numpy import zeros, where\n",
    "import matplotlib.pyplot as plt\n",
    "import  do_ensemble"
   ]
  },
  {
   "cell_type": "code",
   "execution_count": null,
   "metadata": {},
   "outputs": [],
   "source": [
    "M=800;N=500;\n",
    "seed=4242\n",
    "m_sites = do_ensemble.initialise(M, N)\n",
    "omega_t = []\n",
    "dynamic_evolution = []\n",
    "np.random.seed(seed)\n",
    "for _ in np.arange(2e6):\n",
    "    dynamic_evolution.append(m_sites.copy())\n",
    "    m_sites, omega_size = do_ensemble.move_step(m_sites)\n",
    "    omega_t.append(omega_size.copy())\n",
    "\n",
    "m_sites =  do_ensemble.initialise(M, N)\n",
    "omega_t_interventional = []\n",
    "dynamic_evolution_interventional = []\n",
    "np.random.seed(seed)\n",
    "for _ in np.arange(2e6):\n",
    "    dynamic_evolution_interventional.append(m_sites.copy())\n",
    "    m_sites, omega_size = do_ensemble.move_step_intervention(m_sites)\n",
    "    omega_t_interventional.append(omega_size.copy())\n",
    "\n",
    "font = {\"family\": \"monospace\", \"weight\": \"bold\", \"size\": 12}\n",
    "plt.rc(\"font\", **font)\n",
    "plt.plot(np.abs(np.array(omega_t)-np.array(omega_t_interventional)), label=\"$\\Delta H$-causal effect\")\n",
    "plt.plot(omega_t, \"--\", label=\"$\\Omega$\")\n",
    "plt.plot(omega_t_interventional, \"-.\", label=\"$\\Omega_{intervention}$\")\n",
    "plt.xscale(\"log\")\n",
    "plt.legend()\n",
    "plt.xlabel(\"Time step\", **font)\n",
    "plt.ylabel(\"Ensemble size: $k$, $2^k$\", **font)\n",
    "plt.title(\"State-size evolution over time \")"
   ]
  },
  {
   "cell_type": "code",
   "execution_count": null,
   "metadata": {},
   "outputs": [],
   "source": []
  }
 ],
 "metadata": {
  "kernelspec": {
   "display_name": "twofortyice",
   "language": "python",
   "name": "python3"
  },
  "language_info": {
   "codemirror_mode": {
    "name": "ipython",
    "version": 3
   },
   "file_extension": ".py",
   "mimetype": "text/x-python",
   "name": "python",
   "nbconvert_exporter": "python",
   "pygments_lexer": "ipython3",
   "version": "3.10.13"
  }
 },
 "nbformat": 4,
 "nbformat_minor": 2
}
